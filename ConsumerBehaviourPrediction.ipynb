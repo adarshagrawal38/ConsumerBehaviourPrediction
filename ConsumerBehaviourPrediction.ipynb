{
  "nbformat": 4,
  "nbformat_minor": 0,
  "metadata": {
    "colab": {
      "name": "ConsumerBehaviourPrediction.ipynb",
      "provenance": [],
      "collapsed_sections": [],
      "toc_visible": true,
      "authorship_tag": "ABX9TyO03Vognpg0D32e9sQTIEIR",
      "include_colab_link": true
    },
    "kernelspec": {
      "name": "python3",
      "display_name": "Python 3"
    }
  },
  "cells": [
    {
      "cell_type": "markdown",
      "metadata": {
        "id": "view-in-github",
        "colab_type": "text"
      },
      "source": [
        "<a href=\"https://colab.research.google.com/github/adarshagrawal38/ConsumerBehaviourPrediction/blob/master/ConsumerBehaviourPrediction.ipynb\" target=\"_parent\"><img src=\"https://colab.research.google.com/assets/colab-badge.svg\" alt=\"Open In Colab\"/></a>"
      ]
    },
    {
      "cell_type": "code",
      "metadata": {
        "id": "SWxlhTPF8x1j",
        "colab_type": "code",
        "colab": {
          "base_uri": "https://localhost:8080/",
          "height": 206
        },
        "outputId": "a2962e4a-80aa-47f6-887d-9eae277d342d"
      },
      "source": [
        "# In our data set we have customer age, gender and estimated salary based on that we will try to predict custome will buy our product or not\n",
        "import pandas as pd\n",
        "dataset = pd.read_csv('Customer_Behaviour.csv')\n",
        "dataset.head()"
      ],
      "execution_count": 2,
      "outputs": [
        {
          "output_type": "execute_result",
          "data": {
            "text/html": [
              "<div>\n",
              "<style scoped>\n",
              "    .dataframe tbody tr th:only-of-type {\n",
              "        vertical-align: middle;\n",
              "    }\n",
              "\n",
              "    .dataframe tbody tr th {\n",
              "        vertical-align: top;\n",
              "    }\n",
              "\n",
              "    .dataframe thead th {\n",
              "        text-align: right;\n",
              "    }\n",
              "</style>\n",
              "<table border=\"1\" class=\"dataframe\">\n",
              "  <thead>\n",
              "    <tr style=\"text-align: right;\">\n",
              "      <th></th>\n",
              "      <th>User ID</th>\n",
              "      <th>Gender</th>\n",
              "      <th>Age</th>\n",
              "      <th>EstimatedSalary</th>\n",
              "      <th>Purchased</th>\n",
              "    </tr>\n",
              "  </thead>\n",
              "  <tbody>\n",
              "    <tr>\n",
              "      <th>0</th>\n",
              "      <td>15624510</td>\n",
              "      <td>Male</td>\n",
              "      <td>19</td>\n",
              "      <td>19000</td>\n",
              "      <td>0</td>\n",
              "    </tr>\n",
              "    <tr>\n",
              "      <th>1</th>\n",
              "      <td>15810944</td>\n",
              "      <td>Male</td>\n",
              "      <td>35</td>\n",
              "      <td>20000</td>\n",
              "      <td>0</td>\n",
              "    </tr>\n",
              "    <tr>\n",
              "      <th>2</th>\n",
              "      <td>15668575</td>\n",
              "      <td>Female</td>\n",
              "      <td>26</td>\n",
              "      <td>43000</td>\n",
              "      <td>0</td>\n",
              "    </tr>\n",
              "    <tr>\n",
              "      <th>3</th>\n",
              "      <td>15603246</td>\n",
              "      <td>Female</td>\n",
              "      <td>27</td>\n",
              "      <td>57000</td>\n",
              "      <td>0</td>\n",
              "    </tr>\n",
              "    <tr>\n",
              "      <th>4</th>\n",
              "      <td>15804002</td>\n",
              "      <td>Male</td>\n",
              "      <td>19</td>\n",
              "      <td>76000</td>\n",
              "      <td>0</td>\n",
              "    </tr>\n",
              "  </tbody>\n",
              "</table>\n",
              "</div>"
            ],
            "text/plain": [
              "    User ID  Gender  Age  EstimatedSalary  Purchased\n",
              "0  15624510    Male   19            19000          0\n",
              "1  15810944    Male   35            20000          0\n",
              "2  15668575  Female   26            43000          0\n",
              "3  15603246  Female   27            57000          0\n",
              "4  15804002    Male   19            76000          0"
            ]
          },
          "metadata": {
            "tags": []
          },
          "execution_count": 2
        }
      ]
    },
    {
      "cell_type": "code",
      "metadata": {
        "id": "KIQMekvN9miZ",
        "colab_type": "code",
        "colab": {
          "base_uri": "https://localhost:8080/",
          "height": 206
        },
        "outputId": "b0a9ffc8-847b-4806-9393-2b7e55e099ad"
      },
      "source": [
        "# remove userid\n",
        "dataset = dataset.drop('User ID', axis=1)\n",
        "dataset.head()"
      ],
      "execution_count": 4,
      "outputs": [
        {
          "output_type": "execute_result",
          "data": {
            "text/html": [
              "<div>\n",
              "<style scoped>\n",
              "    .dataframe tbody tr th:only-of-type {\n",
              "        vertical-align: middle;\n",
              "    }\n",
              "\n",
              "    .dataframe tbody tr th {\n",
              "        vertical-align: top;\n",
              "    }\n",
              "\n",
              "    .dataframe thead th {\n",
              "        text-align: right;\n",
              "    }\n",
              "</style>\n",
              "<table border=\"1\" class=\"dataframe\">\n",
              "  <thead>\n",
              "    <tr style=\"text-align: right;\">\n",
              "      <th></th>\n",
              "      <th>Gender</th>\n",
              "      <th>Age</th>\n",
              "      <th>EstimatedSalary</th>\n",
              "      <th>Purchased</th>\n",
              "    </tr>\n",
              "  </thead>\n",
              "  <tbody>\n",
              "    <tr>\n",
              "      <th>0</th>\n",
              "      <td>Male</td>\n",
              "      <td>19</td>\n",
              "      <td>19000</td>\n",
              "      <td>0</td>\n",
              "    </tr>\n",
              "    <tr>\n",
              "      <th>1</th>\n",
              "      <td>Male</td>\n",
              "      <td>35</td>\n",
              "      <td>20000</td>\n",
              "      <td>0</td>\n",
              "    </tr>\n",
              "    <tr>\n",
              "      <th>2</th>\n",
              "      <td>Female</td>\n",
              "      <td>26</td>\n",
              "      <td>43000</td>\n",
              "      <td>0</td>\n",
              "    </tr>\n",
              "    <tr>\n",
              "      <th>3</th>\n",
              "      <td>Female</td>\n",
              "      <td>27</td>\n",
              "      <td>57000</td>\n",
              "      <td>0</td>\n",
              "    </tr>\n",
              "    <tr>\n",
              "      <th>4</th>\n",
              "      <td>Male</td>\n",
              "      <td>19</td>\n",
              "      <td>76000</td>\n",
              "      <td>0</td>\n",
              "    </tr>\n",
              "  </tbody>\n",
              "</table>\n",
              "</div>"
            ],
            "text/plain": [
              "   Gender  Age  EstimatedSalary  Purchased\n",
              "0    Male   19            19000          0\n",
              "1    Male   35            20000          0\n",
              "2  Female   26            43000          0\n",
              "3  Female   27            57000          0\n",
              "4    Male   19            76000          0"
            ]
          },
          "metadata": {
            "tags": []
          },
          "execution_count": 4
        }
      ]
    },
    {
      "cell_type": "code",
      "metadata": {
        "id": "qTdzaio-94aW",
        "colab_type": "code",
        "colab": {
          "base_uri": "https://localhost:8080/",
          "height": 424
        },
        "outputId": "e599dbc2-6a62-4d5c-e9a2-3ec985499167"
      },
      "source": [
        "#one hot encoding on gender\n",
        "dataset = pd.get_dummies(dataset, prefix='Gender')\n",
        "dataset"
      ],
      "execution_count": 17,
      "outputs": [
        {
          "output_type": "execute_result",
          "data": {
            "text/html": [
              "<div>\n",
              "<style scoped>\n",
              "    .dataframe tbody tr th:only-of-type {\n",
              "        vertical-align: middle;\n",
              "    }\n",
              "\n",
              "    .dataframe tbody tr th {\n",
              "        vertical-align: top;\n",
              "    }\n",
              "\n",
              "    .dataframe thead th {\n",
              "        text-align: right;\n",
              "    }\n",
              "</style>\n",
              "<table border=\"1\" class=\"dataframe\">\n",
              "  <thead>\n",
              "    <tr style=\"text-align: right;\">\n",
              "      <th></th>\n",
              "      <th>Age</th>\n",
              "      <th>EstimatedSalary</th>\n",
              "      <th>Purchased</th>\n",
              "      <th>Gender_Female</th>\n",
              "      <th>Gender_Male</th>\n",
              "    </tr>\n",
              "  </thead>\n",
              "  <tbody>\n",
              "    <tr>\n",
              "      <th>0</th>\n",
              "      <td>19</td>\n",
              "      <td>19000</td>\n",
              "      <td>0</td>\n",
              "      <td>0</td>\n",
              "      <td>1</td>\n",
              "    </tr>\n",
              "    <tr>\n",
              "      <th>1</th>\n",
              "      <td>35</td>\n",
              "      <td>20000</td>\n",
              "      <td>0</td>\n",
              "      <td>0</td>\n",
              "      <td>1</td>\n",
              "    </tr>\n",
              "    <tr>\n",
              "      <th>2</th>\n",
              "      <td>26</td>\n",
              "      <td>43000</td>\n",
              "      <td>0</td>\n",
              "      <td>1</td>\n",
              "      <td>0</td>\n",
              "    </tr>\n",
              "    <tr>\n",
              "      <th>3</th>\n",
              "      <td>27</td>\n",
              "      <td>57000</td>\n",
              "      <td>0</td>\n",
              "      <td>1</td>\n",
              "      <td>0</td>\n",
              "    </tr>\n",
              "    <tr>\n",
              "      <th>4</th>\n",
              "      <td>19</td>\n",
              "      <td>76000</td>\n",
              "      <td>0</td>\n",
              "      <td>0</td>\n",
              "      <td>1</td>\n",
              "    </tr>\n",
              "    <tr>\n",
              "      <th>...</th>\n",
              "      <td>...</td>\n",
              "      <td>...</td>\n",
              "      <td>...</td>\n",
              "      <td>...</td>\n",
              "      <td>...</td>\n",
              "    </tr>\n",
              "    <tr>\n",
              "      <th>395</th>\n",
              "      <td>46</td>\n",
              "      <td>41000</td>\n",
              "      <td>1</td>\n",
              "      <td>1</td>\n",
              "      <td>0</td>\n",
              "    </tr>\n",
              "    <tr>\n",
              "      <th>396</th>\n",
              "      <td>51</td>\n",
              "      <td>23000</td>\n",
              "      <td>1</td>\n",
              "      <td>0</td>\n",
              "      <td>1</td>\n",
              "    </tr>\n",
              "    <tr>\n",
              "      <th>397</th>\n",
              "      <td>50</td>\n",
              "      <td>20000</td>\n",
              "      <td>1</td>\n",
              "      <td>1</td>\n",
              "      <td>0</td>\n",
              "    </tr>\n",
              "    <tr>\n",
              "      <th>398</th>\n",
              "      <td>36</td>\n",
              "      <td>33000</td>\n",
              "      <td>0</td>\n",
              "      <td>0</td>\n",
              "      <td>1</td>\n",
              "    </tr>\n",
              "    <tr>\n",
              "      <th>399</th>\n",
              "      <td>49</td>\n",
              "      <td>36000</td>\n",
              "      <td>1</td>\n",
              "      <td>1</td>\n",
              "      <td>0</td>\n",
              "    </tr>\n",
              "  </tbody>\n",
              "</table>\n",
              "<p>400 rows × 5 columns</p>\n",
              "</div>"
            ],
            "text/plain": [
              "     Age  EstimatedSalary  Purchased  Gender_Female  Gender_Male\n",
              "0     19            19000          0              0            1\n",
              "1     35            20000          0              0            1\n",
              "2     26            43000          0              1            0\n",
              "3     27            57000          0              1            0\n",
              "4     19            76000          0              0            1\n",
              "..   ...              ...        ...            ...          ...\n",
              "395   46            41000          1              1            0\n",
              "396   51            23000          1              0            1\n",
              "397   50            20000          1              1            0\n",
              "398   36            33000          0              0            1\n",
              "399   49            36000          1              1            0\n",
              "\n",
              "[400 rows x 5 columns]"
            ]
          },
          "metadata": {
            "tags": []
          },
          "execution_count": 17
        }
      ]
    },
    {
      "cell_type": "code",
      "metadata": {
        "id": "EED7f4Rd_p_w",
        "colab_type": "code",
        "colab": {
          "base_uri": "https://localhost:8080/",
          "height": 424
        },
        "outputId": "3b45e61b-316f-4b3b-f05a-94c6684c6301"
      },
      "source": [
        "import numpy as np\n",
        "from sklearn import preprocessing\n",
        "\n",
        "float_array = dataset[['Age', 'EstimatedSalary','Gender_Female','Gender_Male', 'Purchased']].values.astype(float)\n",
        "min_max_scaler = preprocessing.MinMaxScaler()\n",
        "scaled_array = min_max_scaler.fit_transform(float_array)\n",
        "df_normalized = pd.DataFrame(scaled_array, columns=['Age', 'EstimatedSalary', 'Gender_Female','Gender_Male', 'Purchased'])\n",
        "df_normalized"
      ],
      "execution_count": 30,
      "outputs": [
        {
          "output_type": "execute_result",
          "data": {
            "text/html": [
              "<div>\n",
              "<style scoped>\n",
              "    .dataframe tbody tr th:only-of-type {\n",
              "        vertical-align: middle;\n",
              "    }\n",
              "\n",
              "    .dataframe tbody tr th {\n",
              "        vertical-align: top;\n",
              "    }\n",
              "\n",
              "    .dataframe thead th {\n",
              "        text-align: right;\n",
              "    }\n",
              "</style>\n",
              "<table border=\"1\" class=\"dataframe\">\n",
              "  <thead>\n",
              "    <tr style=\"text-align: right;\">\n",
              "      <th></th>\n",
              "      <th>Age</th>\n",
              "      <th>EstimatedSalary</th>\n",
              "      <th>Gender_Female</th>\n",
              "      <th>Gender_Male</th>\n",
              "      <th>Purchased</th>\n",
              "    </tr>\n",
              "  </thead>\n",
              "  <tbody>\n",
              "    <tr>\n",
              "      <th>0</th>\n",
              "      <td>0.023810</td>\n",
              "      <td>0.029630</td>\n",
              "      <td>0.0</td>\n",
              "      <td>1.0</td>\n",
              "      <td>0.0</td>\n",
              "    </tr>\n",
              "    <tr>\n",
              "      <th>1</th>\n",
              "      <td>0.404762</td>\n",
              "      <td>0.037037</td>\n",
              "      <td>0.0</td>\n",
              "      <td>1.0</td>\n",
              "      <td>0.0</td>\n",
              "    </tr>\n",
              "    <tr>\n",
              "      <th>2</th>\n",
              "      <td>0.190476</td>\n",
              "      <td>0.207407</td>\n",
              "      <td>1.0</td>\n",
              "      <td>0.0</td>\n",
              "      <td>0.0</td>\n",
              "    </tr>\n",
              "    <tr>\n",
              "      <th>3</th>\n",
              "      <td>0.214286</td>\n",
              "      <td>0.311111</td>\n",
              "      <td>1.0</td>\n",
              "      <td>0.0</td>\n",
              "      <td>0.0</td>\n",
              "    </tr>\n",
              "    <tr>\n",
              "      <th>4</th>\n",
              "      <td>0.023810</td>\n",
              "      <td>0.451852</td>\n",
              "      <td>0.0</td>\n",
              "      <td>1.0</td>\n",
              "      <td>0.0</td>\n",
              "    </tr>\n",
              "    <tr>\n",
              "      <th>...</th>\n",
              "      <td>...</td>\n",
              "      <td>...</td>\n",
              "      <td>...</td>\n",
              "      <td>...</td>\n",
              "      <td>...</td>\n",
              "    </tr>\n",
              "    <tr>\n",
              "      <th>395</th>\n",
              "      <td>0.666667</td>\n",
              "      <td>0.192593</td>\n",
              "      <td>1.0</td>\n",
              "      <td>0.0</td>\n",
              "      <td>1.0</td>\n",
              "    </tr>\n",
              "    <tr>\n",
              "      <th>396</th>\n",
              "      <td>0.785714</td>\n",
              "      <td>0.059259</td>\n",
              "      <td>0.0</td>\n",
              "      <td>1.0</td>\n",
              "      <td>1.0</td>\n",
              "    </tr>\n",
              "    <tr>\n",
              "      <th>397</th>\n",
              "      <td>0.761905</td>\n",
              "      <td>0.037037</td>\n",
              "      <td>1.0</td>\n",
              "      <td>0.0</td>\n",
              "      <td>1.0</td>\n",
              "    </tr>\n",
              "    <tr>\n",
              "      <th>398</th>\n",
              "      <td>0.428571</td>\n",
              "      <td>0.133333</td>\n",
              "      <td>0.0</td>\n",
              "      <td>1.0</td>\n",
              "      <td>0.0</td>\n",
              "    </tr>\n",
              "    <tr>\n",
              "      <th>399</th>\n",
              "      <td>0.738095</td>\n",
              "      <td>0.155556</td>\n",
              "      <td>1.0</td>\n",
              "      <td>0.0</td>\n",
              "      <td>1.0</td>\n",
              "    </tr>\n",
              "  </tbody>\n",
              "</table>\n",
              "<p>400 rows × 5 columns</p>\n",
              "</div>"
            ],
            "text/plain": [
              "          Age  EstimatedSalary  Gender_Female  Gender_Male  Purchased\n",
              "0    0.023810         0.029630            0.0          1.0        0.0\n",
              "1    0.404762         0.037037            0.0          1.0        0.0\n",
              "2    0.190476         0.207407            1.0          0.0        0.0\n",
              "3    0.214286         0.311111            1.0          0.0        0.0\n",
              "4    0.023810         0.451852            0.0          1.0        0.0\n",
              "..        ...              ...            ...          ...        ...\n",
              "395  0.666667         0.192593            1.0          0.0        1.0\n",
              "396  0.785714         0.059259            0.0          1.0        1.0\n",
              "397  0.761905         0.037037            1.0          0.0        1.0\n",
              "398  0.428571         0.133333            0.0          1.0        0.0\n",
              "399  0.738095         0.155556            1.0          0.0        1.0\n",
              "\n",
              "[400 rows x 5 columns]"
            ]
          },
          "metadata": {
            "tags": []
          },
          "execution_count": 30
        }
      ]
    },
    {
      "cell_type": "code",
      "metadata": {
        "id": "3Pk5mhctCQwQ",
        "colab_type": "code",
        "colab": {
          "base_uri": "https://localhost:8080/",
          "height": 681
        },
        "outputId": "fec3b15c-bbc9-4792-ae7e-1221d6911ff6"
      },
      "source": [
        "#deviding dataset into training and testing part\n",
        "from sklearn.model_selection import train_test_split\n",
        "x = df_normalized.drop('Purchased', axis=1)\n",
        "print(x)\n",
        "y =df_normalized['Purchased']\n",
        "x_train, x_test, y_train, y_test = train_test_split(x,y, test_size=0.2)\n",
        "x_train"
      ],
      "execution_count": 47,
      "outputs": [
        {
          "output_type": "stream",
          "text": [
            "          Age  EstimatedSalary  Gender_Female  Gender_Male\n",
            "0    0.023810         0.029630            0.0          1.0\n",
            "1    0.404762         0.037037            0.0          1.0\n",
            "2    0.190476         0.207407            1.0          0.0\n",
            "3    0.214286         0.311111            1.0          0.0\n",
            "4    0.023810         0.451852            0.0          1.0\n",
            "..        ...              ...            ...          ...\n",
            "395  0.666667         0.192593            1.0          0.0\n",
            "396  0.785714         0.059259            0.0          1.0\n",
            "397  0.761905         0.037037            1.0          0.0\n",
            "398  0.428571         0.133333            0.0          1.0\n",
            "399  0.738095         0.155556            1.0          0.0\n",
            "\n",
            "[400 rows x 4 columns]\n"
          ],
          "name": "stdout"
        },
        {
          "output_type": "execute_result",
          "data": {
            "text/html": [
              "<div>\n",
              "<style scoped>\n",
              "    .dataframe tbody tr th:only-of-type {\n",
              "        vertical-align: middle;\n",
              "    }\n",
              "\n",
              "    .dataframe tbody tr th {\n",
              "        vertical-align: top;\n",
              "    }\n",
              "\n",
              "    .dataframe thead th {\n",
              "        text-align: right;\n",
              "    }\n",
              "</style>\n",
              "<table border=\"1\" class=\"dataframe\">\n",
              "  <thead>\n",
              "    <tr style=\"text-align: right;\">\n",
              "      <th></th>\n",
              "      <th>Age</th>\n",
              "      <th>EstimatedSalary</th>\n",
              "      <th>Gender_Female</th>\n",
              "      <th>Gender_Male</th>\n",
              "    </tr>\n",
              "  </thead>\n",
              "  <tbody>\n",
              "    <tr>\n",
              "      <th>181</th>\n",
              "      <td>0.309524</td>\n",
              "      <td>0.414815</td>\n",
              "      <td>1.0</td>\n",
              "      <td>0.0</td>\n",
              "    </tr>\n",
              "    <tr>\n",
              "      <th>303</th>\n",
              "      <td>0.452381</td>\n",
              "      <td>0.474074</td>\n",
              "      <td>0.0</td>\n",
              "      <td>1.0</td>\n",
              "    </tr>\n",
              "    <tr>\n",
              "      <th>316</th>\n",
              "      <td>0.857143</td>\n",
              "      <td>0.659259</td>\n",
              "      <td>1.0</td>\n",
              "      <td>0.0</td>\n",
              "    </tr>\n",
              "    <tr>\n",
              "      <th>147</th>\n",
              "      <td>0.547619</td>\n",
              "      <td>0.111111</td>\n",
              "      <td>1.0</td>\n",
              "      <td>0.0</td>\n",
              "    </tr>\n",
              "    <tr>\n",
              "      <th>379</th>\n",
              "      <td>0.952381</td>\n",
              "      <td>0.059259</td>\n",
              "      <td>1.0</td>\n",
              "      <td>0.0</td>\n",
              "    </tr>\n",
              "    <tr>\n",
              "      <th>...</th>\n",
              "      <td>...</td>\n",
              "      <td>...</td>\n",
              "      <td>...</td>\n",
              "      <td>...</td>\n",
              "    </tr>\n",
              "    <tr>\n",
              "      <th>91</th>\n",
              "      <td>0.285714</td>\n",
              "      <td>0.748148</td>\n",
              "      <td>1.0</td>\n",
              "      <td>0.0</td>\n",
              "    </tr>\n",
              "    <tr>\n",
              "      <th>321</th>\n",
              "      <td>0.833333</td>\n",
              "      <td>0.496296</td>\n",
              "      <td>1.0</td>\n",
              "      <td>0.0</td>\n",
              "    </tr>\n",
              "    <tr>\n",
              "      <th>250</th>\n",
              "      <td>0.619048</td>\n",
              "      <td>0.177778</td>\n",
              "      <td>1.0</td>\n",
              "      <td>0.0</td>\n",
              "    </tr>\n",
              "    <tr>\n",
              "      <th>377</th>\n",
              "      <td>0.571429</td>\n",
              "      <td>0.281481</td>\n",
              "      <td>1.0</td>\n",
              "      <td>0.0</td>\n",
              "    </tr>\n",
              "    <tr>\n",
              "      <th>320</th>\n",
              "      <td>0.809524</td>\n",
              "      <td>0.911111</td>\n",
              "      <td>1.0</td>\n",
              "      <td>0.0</td>\n",
              "    </tr>\n",
              "  </tbody>\n",
              "</table>\n",
              "<p>320 rows × 4 columns</p>\n",
              "</div>"
            ],
            "text/plain": [
              "          Age  EstimatedSalary  Gender_Female  Gender_Male\n",
              "181  0.309524         0.414815            1.0          0.0\n",
              "303  0.452381         0.474074            0.0          1.0\n",
              "316  0.857143         0.659259            1.0          0.0\n",
              "147  0.547619         0.111111            1.0          0.0\n",
              "379  0.952381         0.059259            1.0          0.0\n",
              "..        ...              ...            ...          ...\n",
              "91   0.285714         0.748148            1.0          0.0\n",
              "321  0.833333         0.496296            1.0          0.0\n",
              "250  0.619048         0.177778            1.0          0.0\n",
              "377  0.571429         0.281481            1.0          0.0\n",
              "320  0.809524         0.911111            1.0          0.0\n",
              "\n",
              "[320 rows x 4 columns]"
            ]
          },
          "metadata": {
            "tags": []
          },
          "execution_count": 47
        }
      ]
    },
    {
      "cell_type": "code",
      "metadata": {
        "id": "ti1vvBy7D5Ty",
        "colab_type": "code",
        "colab": {
          "base_uri": "https://localhost:8080/",
          "height": 35
        },
        "outputId": "6024a621-4ac0-45a2-e724-6f2fa379e8ca"
      },
      "source": [
        "#Applying naive bayes algorithm\n",
        "from sklearn.naive_bayes import GaussianNB\n",
        "\n",
        "from sklearn.metrics import accuracy_score\n",
        "classifier = GaussianNB()\n",
        "classifier.fit(x_train, y_train)\n",
        "\n",
        "y_pred = classifier.predict(x_test)\n",
        "\n",
        "acc = accuracy_score(y_test, y_pred)\n",
        "print(acc)"
      ],
      "execution_count": 49,
      "outputs": [
        {
          "output_type": "stream",
          "text": [
            "0.9125\n"
          ],
          "name": "stdout"
        }
      ]
    },
    {
      "cell_type": "code",
      "metadata": {
        "id": "MEw6BCkbTdij",
        "colab_type": "code",
        "colab": {
          "base_uri": "https://localhost:8080/",
          "height": 35
        },
        "outputId": "ef00cd01-bb27-4ee4-d95e-99e2c2fe4ae3"
      },
      "source": [
        "#Applying radom forest algo\n",
        "from sklearn.ensemble import RandomForestClassifier\n",
        "from sklearn import metrics\n",
        "\n",
        "\n",
        "model_rf = RandomForestClassifier(n_estimators=300, oob_score = True, n_jobs = -1,\n",
        "                                  random_state =50, max_features = \"auto\",\n",
        "                                  max_leaf_nodes = 50)\n",
        "model_rf.fit(x_train, y_train)\n",
        "\n",
        "# Make predictions\n",
        "prediction_test = model_rf.predict(x_test)\n",
        "print (\"Accuracy : \",metrics.accuracy_score(y_test, prediction_test))"
      ],
      "execution_count": 50,
      "outputs": [
        {
          "output_type": "stream",
          "text": [
            "Accuracy :  0.9375\n"
          ],
          "name": "stdout"
        }
      ]
    },
    {
      "cell_type": "code",
      "metadata": {
        "id": "KjAwFuMpTvH-",
        "colab_type": "code",
        "colab": {
          "base_uri": "https://localhost:8080/",
          "height": 35
        },
        "outputId": "efb61210-dea3-41bf-8854-844a863ababb"
      },
      "source": [
        "#Applying SVM\n",
        "from sklearn import svm\n",
        "from sklearn import metrics\n",
        "classifier_svm = svm.SVC()\n",
        "classifier_svm.fit(x_train, y_train)\n",
        "\n",
        "y_pred = classifier_svm.predict(x_test)\n",
        "\n",
        "\n",
        "print (\"SVM Accuracy : \",metrics.accuracy_score(y_test, y_pred))"
      ],
      "execution_count": 57,
      "outputs": [
        {
          "output_type": "stream",
          "text": [
            "SVM Accuracy :  0.9\n"
          ],
          "name": "stdout"
        }
      ]
    },
    {
      "cell_type": "code",
      "metadata": {
        "id": "Xd6IIP34VAGn",
        "colab_type": "code",
        "colab": {
          "base_uri": "https://localhost:8080/",
          "height": 35
        },
        "outputId": "5aed739f-fddd-429f-e6fc-935719b92468"
      },
      "source": [
        "#Applying decision tree\n",
        "from sklearn import tree\n",
        "from sklearn import metrics\n",
        "clf = tree.DecisionTreeClassifier()\n",
        "clf = clf.fit(x_train, y_train)\n",
        "\n",
        "y_pred = clf.predict(x_test)\n",
        "print('Decision tree accuracy: ', metrics.accuracy_score(y_test, y_pred))"
      ],
      "execution_count": 58,
      "outputs": [
        {
          "output_type": "stream",
          "text": [
            "Decision tree accuracy:  0.9\n"
          ],
          "name": "stdout"
        }
      ]
    },
    {
      "cell_type": "code",
      "metadata": {
        "id": "uAO-4102Vst4",
        "colab_type": "code",
        "colab": {
          "base_uri": "https://localhost:8080/",
          "height": 1000
        },
        "outputId": "8a4254bd-f404-44f6-f780-8f7c4c8df5cc"
      },
      "source": [
        "tree.plot_tree(clf) "
      ],
      "execution_count": 59,
      "outputs": [
        {
          "output_type": "execute_result",
          "data": {
            "text/plain": [
              "[Text(158.68125, 209.07692307692307, 'X[0] <= 0.631\\ngini = 0.469\\nsamples = 320\\nvalue = [200, 120]'),\n",
              " Text(85.44375000000001, 192.35076923076923, 'X[1] <= 0.559\\ngini = 0.29\\nsamples = 227\\nvalue = [187, 40]'),\n",
              " Text(38.362500000000004, 175.62461538461537, 'X[0] <= 0.44\\ngini = 0.072\\nsamples = 187\\nvalue = [180, 7]'),\n",
              " Text(31.387500000000003, 158.89846153846153, 'gini = 0.0\\nsamples = 127\\nvalue = [127, 0]'),\n",
              " Text(45.337500000000006, 158.89846153846153, 'X[1] <= 0.507\\ngini = 0.206\\nsamples = 60\\nvalue = [53, 7]'),\n",
              " Text(38.362500000000004, 142.1723076923077, 'X[1] <= 0.389\\ngini = 0.183\\nsamples = 59\\nvalue = [53, 6]'),\n",
              " Text(31.387500000000003, 125.44615384615385, 'gini = 0.0\\nsamples = 29\\nvalue = [29, 0]'),\n",
              " Text(45.337500000000006, 125.44615384615385, 'X[0] <= 0.464\\ngini = 0.32\\nsamples = 30\\nvalue = [24, 6]'),\n",
              " Text(13.950000000000001, 108.72, 'X[1] <= 0.411\\ngini = 0.49\\nsamples = 7\\nvalue = [4, 3]'),\n",
              " Text(6.9750000000000005, 91.99384615384615, 'gini = 0.0\\nsamples = 1\\nvalue = [0, 1]'),\n",
              " Text(20.925, 91.99384615384615, 'X[1] <= 0.452\\ngini = 0.444\\nsamples = 6\\nvalue = [4, 2]'),\n",
              " Text(13.950000000000001, 75.2676923076923, 'gini = 0.0\\nsamples = 3\\nvalue = [3, 0]'),\n",
              " Text(27.900000000000002, 75.2676923076923, 'X[1] <= 0.478\\ngini = 0.444\\nsamples = 3\\nvalue = [1, 2]'),\n",
              " Text(20.925, 58.541538461538465, 'gini = 0.0\\nsamples = 2\\nvalue = [0, 2]'),\n",
              " Text(34.875, 58.541538461538465, 'gini = 0.0\\nsamples = 1\\nvalue = [1, 0]'),\n",
              " Text(76.72500000000001, 108.72, 'X[1] <= 0.478\\ngini = 0.227\\nsamples = 23\\nvalue = [20, 3]'),\n",
              " Text(62.775000000000006, 91.99384615384615, 'X[0] <= 0.536\\ngini = 0.188\\nsamples = 19\\nvalue = [17, 2]'),\n",
              " Text(55.800000000000004, 75.2676923076923, 'X[1] <= 0.452\\ngini = 0.32\\nsamples = 10\\nvalue = [8, 2]'),\n",
              " Text(48.825, 58.541538461538465, 'X[2] <= 0.5\\ngini = 0.408\\nsamples = 7\\nvalue = [5, 2]'),\n",
              " Text(34.875, 41.81538461538463, 'X[1] <= 0.43\\ngini = 0.444\\nsamples = 3\\nvalue = [2, 1]'),\n",
              " Text(27.900000000000002, 25.089230769230767, 'X[0] <= 0.512\\ngini = 0.5\\nsamples = 2\\nvalue = [1, 1]'),\n",
              " Text(20.925, 8.363076923076932, 'gini = 0.0\\nsamples = 1\\nvalue = [1, 0]'),\n",
              " Text(34.875, 8.363076923076932, 'gini = 0.0\\nsamples = 1\\nvalue = [0, 1]'),\n",
              " Text(41.85, 25.089230769230767, 'gini = 0.0\\nsamples = 1\\nvalue = [1, 0]'),\n",
              " Text(62.775000000000006, 41.81538461538463, 'X[1] <= 0.433\\ngini = 0.375\\nsamples = 4\\nvalue = [3, 1]'),\n",
              " Text(55.800000000000004, 25.089230769230767, 'gini = 0.0\\nsamples = 2\\nvalue = [2, 0]'),\n",
              " Text(69.75, 25.089230769230767, 'X[0] <= 0.512\\ngini = 0.5\\nsamples = 2\\nvalue = [1, 1]'),\n",
              " Text(62.775000000000006, 8.363076923076932, 'gini = 0.0\\nsamples = 1\\nvalue = [0, 1]'),\n",
              " Text(76.72500000000001, 8.363076923076932, 'gini = 0.0\\nsamples = 1\\nvalue = [1, 0]'),\n",
              " Text(62.775000000000006, 58.541538461538465, 'gini = 0.0\\nsamples = 3\\nvalue = [3, 0]'),\n",
              " Text(69.75, 75.2676923076923, 'gini = 0.0\\nsamples = 9\\nvalue = [9, 0]'),\n",
              " Text(90.67500000000001, 91.99384615384615, 'X[0] <= 0.56\\ngini = 0.375\\nsamples = 4\\nvalue = [3, 1]'),\n",
              " Text(83.7, 75.2676923076923, 'gini = 0.0\\nsamples = 2\\nvalue = [2, 0]'),\n",
              " Text(97.65, 75.2676923076923, 'X[2] <= 0.5\\ngini = 0.5\\nsamples = 2\\nvalue = [1, 1]'),\n",
              " Text(90.67500000000001, 58.541538461538465, 'gini = 0.0\\nsamples = 1\\nvalue = [1, 0]'),\n",
              " Text(104.62500000000001, 58.541538461538465, 'gini = 0.0\\nsamples = 1\\nvalue = [0, 1]'),\n",
              " Text(52.31250000000001, 142.1723076923077, 'gini = 0.0\\nsamples = 1\\nvalue = [0, 1]'),\n",
              " Text(132.525, 175.62461538461537, 'X[0] <= 0.202\\ngini = 0.289\\nsamples = 40\\nvalue = [7, 33]'),\n",
              " Text(125.55000000000001, 158.89846153846153, 'gini = 0.0\\nsamples = 1\\nvalue = [1, 0]'),\n",
              " Text(139.5, 158.89846153846153, 'X[1] <= 0.759\\ngini = 0.26\\nsamples = 39\\nvalue = [6, 33]'),\n",
              " Text(125.55000000000001, 142.1723076923077, 'X[1] <= 0.685\\ngini = 0.401\\nsamples = 18\\nvalue = [5, 13]'),\n",
              " Text(118.575, 125.44615384615385, 'gini = 0.0\\nsamples = 9\\nvalue = [0, 9]'),\n",
              " Text(132.525, 125.44615384615385, 'X[0] <= 0.524\\ngini = 0.494\\nsamples = 9\\nvalue = [5, 4]'),\n",
              " Text(125.55000000000001, 108.72, 'X[1] <= 0.722\\ngini = 0.408\\nsamples = 7\\nvalue = [5, 2]'),\n",
              " Text(118.575, 91.99384615384615, 'gini = 0.0\\nsamples = 2\\nvalue = [2, 0]'),\n",
              " Text(132.525, 91.99384615384615, 'X[0] <= 0.417\\ngini = 0.48\\nsamples = 5\\nvalue = [3, 2]'),\n",
              " Text(125.55000000000001, 75.2676923076923, 'X[1] <= 0.752\\ngini = 0.375\\nsamples = 4\\nvalue = [3, 1]'),\n",
              " Text(118.575, 58.541538461538465, 'gini = 0.0\\nsamples = 2\\nvalue = [2, 0]'),\n",
              " Text(132.525, 58.541538461538465, 'gini = 0.5\\nsamples = 2\\nvalue = [1, 1]'),\n",
              " Text(139.5, 75.2676923076923, 'gini = 0.0\\nsamples = 1\\nvalue = [0, 1]'),\n",
              " Text(139.5, 108.72, 'gini = 0.0\\nsamples = 2\\nvalue = [0, 2]'),\n",
              " Text(153.45000000000002, 142.1723076923077, 'X[0] <= 0.56\\ngini = 0.091\\nsamples = 21\\nvalue = [1, 20]'),\n",
              " Text(146.47500000000002, 125.44615384615385, 'gini = 0.0\\nsamples = 19\\nvalue = [0, 19]'),\n",
              " Text(160.425, 125.44615384615385, 'X[2] <= 0.5\\ngini = 0.5\\nsamples = 2\\nvalue = [1, 1]'),\n",
              " Text(153.45000000000002, 108.72, 'gini = 0.0\\nsamples = 1\\nvalue = [0, 1]'),\n",
              " Text(167.4, 108.72, 'gini = 0.0\\nsamples = 1\\nvalue = [1, 0]'),\n",
              " Text(231.91875000000002, 192.35076923076923, 'X[0] <= 0.679\\ngini = 0.24\\nsamples = 93\\nvalue = [13, 80]'),\n",
              " Text(195.3, 175.62461538461537, 'X[1] <= 0.274\\ngini = 0.43\\nsamples = 16\\nvalue = [5, 11]'),\n",
              " Text(174.375, 158.89846153846153, 'X[0] <= 0.655\\ngini = 0.219\\nsamples = 8\\nvalue = [1, 7]'),\n",
              " Text(167.4, 142.1723076923077, 'gini = 0.0\\nsamples = 5\\nvalue = [0, 5]'),\n",
              " Text(181.35000000000002, 142.1723076923077, 'X[1] <= 0.056\\ngini = 0.444\\nsamples = 3\\nvalue = [1, 2]'),\n",
              " Text(174.375, 125.44615384615385, 'gini = 0.0\\nsamples = 1\\nvalue = [1, 0]'),\n",
              " Text(188.32500000000002, 125.44615384615385, 'gini = 0.0\\nsamples = 2\\nvalue = [0, 2]'),\n",
              " Text(216.22500000000002, 158.89846153846153, 'X[1] <= 0.678\\ngini = 0.5\\nsamples = 8\\nvalue = [4, 4]'),\n",
              " Text(209.25000000000003, 142.1723076923077, 'X[2] <= 0.5\\ngini = 0.444\\nsamples = 6\\nvalue = [4, 2]'),\n",
              " Text(202.275, 125.44615384615385, 'X[0] <= 0.655\\ngini = 0.5\\nsamples = 4\\nvalue = [2, 2]'),\n",
              " Text(195.3, 108.72, 'gini = 0.0\\nsamples = 1\\nvalue = [1, 0]'),\n",
              " Text(209.25000000000003, 108.72, 'X[1] <= 0.4\\ngini = 0.444\\nsamples = 3\\nvalue = [1, 2]'),\n",
              " Text(202.275, 91.99384615384615, 'gini = 0.0\\nsamples = 1\\nvalue = [1, 0]'),\n",
              " Text(216.22500000000002, 91.99384615384615, 'gini = 0.0\\nsamples = 2\\nvalue = [0, 2]'),\n",
              " Text(216.22500000000002, 125.44615384615385, 'gini = 0.0\\nsamples = 2\\nvalue = [2, 0]'),\n",
              " Text(223.20000000000002, 142.1723076923077, 'gini = 0.0\\nsamples = 2\\nvalue = [0, 2]'),\n",
              " Text(268.5375, 175.62461538461537, 'X[1] <= 0.196\\ngini = 0.186\\nsamples = 77\\nvalue = [8, 69]'),\n",
              " Text(261.5625, 158.89846153846153, 'gini = 0.0\\nsamples = 25\\nvalue = [0, 25]'),\n",
              " Text(275.51250000000005, 158.89846153846153, 'X[1] <= 0.396\\ngini = 0.26\\nsamples = 52\\nvalue = [8, 44]'),\n",
              " Text(251.10000000000002, 142.1723076923077, 'X[0] <= 0.833\\ngini = 0.496\\nsamples = 11\\nvalue = [5, 6]'),\n",
              " Text(230.175, 125.44615384615385, 'X[1] <= 0.252\\ngini = 0.32\\nsamples = 5\\nvalue = [4, 1]'),\n",
              " Text(223.20000000000002, 108.72, 'gini = 0.0\\nsamples = 3\\nvalue = [3, 0]'),\n",
              " Text(237.15, 108.72, 'X[3] <= 0.5\\ngini = 0.5\\nsamples = 2\\nvalue = [1, 1]'),\n",
              " Text(230.175, 91.99384615384615, 'gini = 0.0\\nsamples = 1\\nvalue = [0, 1]'),\n",
              " Text(244.12500000000003, 91.99384615384615, 'gini = 0.0\\nsamples = 1\\nvalue = [1, 0]'),\n",
              " Text(272.02500000000003, 125.44615384615385, 'X[0] <= 0.988\\ngini = 0.278\\nsamples = 6\\nvalue = [1, 5]'),\n",
              " Text(265.05, 108.72, 'X[0] <= 0.964\\ngini = 0.444\\nsamples = 3\\nvalue = [1, 2]'),\n",
              " Text(258.07500000000005, 91.99384615384615, 'gini = 0.0\\nsamples = 2\\nvalue = [0, 2]'),\n",
              " Text(272.02500000000003, 91.99384615384615, 'gini = 0.0\\nsamples = 1\\nvalue = [1, 0]'),\n",
              " Text(279.0, 108.72, 'gini = 0.0\\nsamples = 3\\nvalue = [0, 3]'),\n",
              " Text(299.925, 142.1723076923077, 'X[0] <= 0.774\\ngini = 0.136\\nsamples = 41\\nvalue = [3, 38]'),\n",
              " Text(292.95000000000005, 125.44615384615385, 'gini = 0.0\\nsamples = 15\\nvalue = [0, 15]'),\n",
              " Text(306.90000000000003, 125.44615384615385, 'X[0] <= 0.821\\ngini = 0.204\\nsamples = 26\\nvalue = [3, 23]'),\n",
              " Text(292.95000000000005, 108.72, 'X[1] <= 0.896\\ngini = 0.444\\nsamples = 6\\nvalue = [2, 4]'),\n",
              " Text(285.975, 91.99384615384615, 'X[1] <= 0.644\\ngini = 0.444\\nsamples = 3\\nvalue = [2, 1]'),\n",
              " Text(279.0, 75.2676923076923, 'gini = 0.0\\nsamples = 1\\nvalue = [0, 1]'),\n",
              " Text(292.95000000000005, 75.2676923076923, 'gini = 0.0\\nsamples = 2\\nvalue = [2, 0]'),\n",
              " Text(299.925, 91.99384615384615, 'gini = 0.0\\nsamples = 3\\nvalue = [0, 3]'),\n",
              " Text(320.85, 108.72, 'X[1] <= 0.522\\ngini = 0.095\\nsamples = 20\\nvalue = [1, 19]'),\n",
              " Text(313.875, 91.99384615384615, 'X[1] <= 0.5\\ngini = 0.32\\nsamples = 5\\nvalue = [1, 4]'),\n",
              " Text(306.90000000000003, 75.2676923076923, 'gini = 0.0\\nsamples = 4\\nvalue = [0, 4]'),\n",
              " Text(320.85, 75.2676923076923, 'gini = 0.0\\nsamples = 1\\nvalue = [1, 0]'),\n",
              " Text(327.82500000000005, 91.99384615384615, 'gini = 0.0\\nsamples = 15\\nvalue = [0, 15]')]"
            ]
          },
          "metadata": {
            "tags": []
          },
          "execution_count": 59
        },
        {
          "output_type": "display_data",
          "data": {
            "image/png": "[encoded data removed]",
            "text/plain": [
              "<Figure size 432x288 with 1 Axes>"
            ]
          },
          "metadata": {
            "tags": []
          }
        }
      ]
    },
    {
      "cell_type": "code",
      "metadata": {
        "id": "23KYLh1VWLTm",
        "colab_type": "code",
        "colab": {
          "base_uri": "https://localhost:8080/",
          "height": 54
        },
        "outputId": "4935c7ec-62da-4e66-c22c-33d402d17728"
      },
      "source": [
        "#Applying logistics regression\n",
        "from sklearn.linear_model import LogisticRegression\n",
        "\n",
        "lf = LogisticRegression(random_state=0).fit(x_train, y_train)\n",
        "y_ped = clf.predict(x_test)\n",
        "print('Logistic Regression accuracy: ', metrics.accuracy_score(y_test, y_ped))"
      ],
      "execution_count": 63,
      "outputs": [
        {
          "output_type": "stream",
          "text": [
            "0.996875\n",
            "Logistic Regression accuracy:  0.9\n"
          ],
          "name": "stdout"
        }
      ]
    },
    {
      "cell_type": "code",
      "metadata": {
        "id": "zzbmSJbMAPly",
        "colab_type": "code",
        "colab": {}
      },
      "source": [
        ""
      ],
      "execution_count": 0,
      "outputs": []
    }
  ]
}